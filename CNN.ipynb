{
  "nbformat": 4,
  "nbformat_minor": 0,
  "metadata": {
    "colab": {
      "provenance": [],
      "gpuType": "T4"
    },
    "kernelspec": {
      "name": "python3",
      "display_name": "Python 3"
    },
    "language_info": {
      "name": "python"
    },
    "accelerator": "GPU"
  },
  "cells": [
    {
      "cell_type": "markdown",
      "source": [
        "## Download and setup of the dataset\n",
        "Download the dataset from KaggleHub and define base path."
      ],
      "metadata": {
        "id": "tyyH4OPG2f_r"
      }
    },
    {
      "cell_type": "code",
      "execution_count": null,
      "metadata": {
        "id": "dGwKDJ4gAgrk",
        "colab": {
          "base_uri": "https://localhost:8080/"
        },
        "outputId": "8efe608a-d302-4538-97cb-6ca64d1efa33"
      },
      "outputs": [
        {
          "output_type": "stream",
          "name": "stdout",
          "text": [
            "Using Colab cache for faster access to the 'heart-sound-database' dataset.\n",
            "Path to dataset files: /kaggle/input/heart-sound-database\n"
          ]
        }
      ],
      "source": [
        "import kagglehub\n",
        "import os\n",
        "\n",
        "# Download the dataset from KaggleHub\n",
        "path = kagglehub.dataset_download(\"swapnilpanda/heart-sound-database\")\n",
        "\n",
        "# Print the local path where the dataset has been stored\n",
        "print(\"Path to dataset files:\", path)\n",
        "\n",
        "# Define the base path pointing specifically to the \"heart_sound\" folder inside the dataset\n",
        "base_path = os.path.join(path, \"heart_sound\")"
      ]
    },
    {
      "cell_type": "markdown",
      "source": [
        "## Audio preprocessing functions\n",
        "Define functions for load, filtering, normalization and segmentation of the signals."
      ],
      "metadata": {
        "id": "nV43-hSv2wDS"
      }
    },
    {
      "cell_type": "code",
      "source": [
        "import librosa\n",
        "import jax\n",
        "import jax.numpy as jnp\n",
        "from collections import defaultdict\n",
        "import random\n",
        "from scipy.signal import butter, filtfilt\n",
        "\n",
        "# Load an audio file and resample it to the given sampling rate (default: 2000 Hz)\n",
        "def load_audio(file_path, sr=2000):\n",
        "    audio, sr_ret = librosa.load(file_path, sr=sr)\n",
        "    return audio\n",
        "\n",
        "# Downsample a signal from original sampling rate to target sampling rate\n",
        "def downsample_signal(signal, original_sr, target_sr):\n",
        "    signal_np = jax.device_get(signal)  # Convert JAX array (jnp) to NumPy array\n",
        "    return librosa.resample(signal_np, orig_sr=original_sr, target_sr=target_sr)\n",
        "\n",
        "# Normalize audio to have zero mean and unit variance\n",
        "def normalize_audio(x):\n",
        "    return (x - jnp.mean(x)) / (jnp.std(x) + 1e-8)\n",
        "\n",
        "# Split signal into fixed-length segments with optional overlap (stride)\n",
        "def segment_signal(signal, segment_length, stride=None):\n",
        "    if stride is None:\n",
        "        stride = segment_length  # Default: no overlap\n",
        "    segments = []\n",
        "    for start in range(0, len(signal) - segment_length + 1, stride):\n",
        "        segment = signal[start:start + segment_length]\n",
        "        segments.append(segment)\n",
        "    return segments\n",
        "\n",
        "# Randomly sample a Signal-to-Noise Ratio (SNR) value\n",
        "def sample_snr(key):\n",
        "    snr_values = jnp.array([30, 20, 10, 5])\n",
        "    idx = jax.random.randint(key, shape=(), minval=0, maxval=len(snr_values))\n",
        "    return snr_values[idx]\n",
        "\n",
        "# Add noise to a signal at a given SNR level (default: white noise)\n",
        "def add_noise(signal, key, noise_type='white', snr_db=20):\n",
        "    rms_signal = jnp.sqrt(jnp.mean(signal**2))\n",
        "\n",
        "    if noise_type == 'white':\n",
        "        noise = jax.random.normal(key, shape=signal.shape)\n",
        "    else:\n",
        "        raise ValueError(f\"Unsupported noise type: {noise_type}\")\n",
        "\n",
        "    rms_noise = jnp.sqrt(jnp.mean(noise**2))\n",
        "    desired_rms_noise = rms_signal / (10**(snr_db / 20))\n",
        "    noise_scaled = noise * (desired_rms_noise / (rms_noise + 1e-8))\n",
        "\n",
        "    return signal + noise_scaled\n",
        "\n",
        "# Apply a Butterworth bandpass filter to remove frequencies outside [lowcut, highcut]\n",
        "def butter_bandpass_filter(signal, lowcut=25.0, highcut=400.0, fs=1000.0, order=4):\n",
        "    nyq = 0.5 * fs  # Nyquist frequency\n",
        "    low = lowcut / nyq\n",
        "    high = highcut / nyq\n",
        "\n",
        "    b, a = butter(order, [low, high], btype='band')\n",
        "    filtered_signal = filtfilt(b, a, signal)\n",
        "\n",
        "    return filtered_signal\n",
        "\n",
        "# Load dataset grouped by input_id and apply preprocessing\n",
        "def load_dataset_grouped(base_path, add_noise_flag=False):\n",
        "    key = jax.random.PRNGKey(0)\n",
        "    dataset = {'train': defaultdict(list), 'val': defaultdict(list)}\n",
        "    labels = {'train': {}, 'val': {}}\n",
        "\n",
        "    for split in ['train', 'val']:\n",
        "        input_id = 0\n",
        "        for label in ['healthy', 'unhealthy']:\n",
        "            folder = os.path.join(base_path, split, label)\n",
        "            if not os.path.exists(folder):\n",
        "                print(f\"Folder not found: {folder}\")\n",
        "                continue\n",
        "            for fname in os.listdir(folder):\n",
        "                if fname.endswith('.wav'):\n",
        "                    file_path = os.path.join(folder, fname)\n",
        "                    audio = load_audio(file_path, sr=2000)\n",
        "\n",
        "                    # Optionally add random noise to audio\n",
        "                    if add_noise_flag:\n",
        "                        key, snr_key = jax.random.split(key)\n",
        "                        snr_random = sample_snr(snr_key)\n",
        "\n",
        "                        key, noise_key = jax.random.split(key)\n",
        "                        audio = add_noise(audio, noise_key, noise_type='white', snr_db=snr_random)\n",
        "\n",
        "                    # Apply bandpass filter, downsample to 1000 Hz, normalize\n",
        "                    audio_filtered = butter_bandpass_filter(audio, lowcut=25.0, highcut=400.0, fs=2000.0)\n",
        "                    audio_downsample = downsample_signal(audio_filtered, 2000, 1000)\n",
        "                    audio_normalize = normalize_audio(audio_downsample)\n",
        "\n",
        "                    # Split into overlapping segments (length=2500, stride=1250)\n",
        "                    segment_length = 2500\n",
        "                    segments = segment_signal(audio_normalize, segment_length=segment_length, stride=segment_length//2)\n",
        "\n",
        "                    # Store segments and label for each input_id\n",
        "                    for segment in segments:\n",
        "                        dataset[split][input_id].append(segment)\n",
        "\n",
        "                    labels[split][input_id] = 0 if label == 'healthy' else 1\n",
        "                    input_id += 1\n",
        "\n",
        "    return dataset, labels\n",
        "\n",
        "# Path to the heart_sound dataset folder\n",
        "base_path = os.path.join(path, \"heart_sound\")\n",
        "\n",
        "# Access:\n",
        "# grouped_dataset['train'][input_id] --> list of audio segments for that sample\n",
        "# labels['train'][input_id]          --> label (0=healthy, 1=unhealthy)"
      ],
      "metadata": {
        "id": "XwlGOfowBGV-"
      },
      "execution_count": null,
      "outputs": []
    },
    {
      "cell_type": "markdown",
      "source": [
        "## Load the dataset\n",
        "Load the heart sound dataset with preprocessing (filtering, downsampling, normalization, segmentation).\n",
        "\n"
      ],
      "metadata": {
        "id": "na6vfdJ83MVL"
      }
    },
    {
      "cell_type": "code",
      "source": [
        "# Load and preprocess the dataset (train/val split, segmentation, normalization, filtering)\n",
        "grouped_dataset, labels = load_dataset_grouped(base_path, add_noise_flag=False)\n",
        "\n",
        "# Quick sanity check\n",
        "print(f\"Train samples: {len(grouped_dataset['train'])}\")\n",
        "print(f\"Validation samples: {len(grouped_dataset['val'])}\")\n",
        "\n",
        "first_id = list(grouped_dataset['train'].keys())[0]\n",
        "print(f\"Example train sample (n_segments): {len(grouped_dataset['train'][first_id])}\")\n",
        "print(f\"Label: {labels['train'][first_id]}\")"
      ],
      "metadata": {
        "id": "UaAz8NmgU5bC",
        "colab": {
          "base_uri": "https://localhost:8080/"
        },
        "outputId": "8fedb2a5-7030-43b4-b83a-3ca214f00e5f"
      },
      "execution_count": null,
      "outputs": [
        {
          "output_type": "stream",
          "name": "stdout",
          "text": [
            "Train samples: 3240\n",
            "Validation samples: 301\n",
            "Example train sample (n_segments): 5\n",
            "Label: 0\n"
          ]
        }
      ]
    },
    {
      "cell_type": "markdown",
      "source": [
        "## Train/Validation split\n",
        "Extract training and validation subsets from the grouped dataset.\n"
      ],
      "metadata": {
        "id": "APKAaMcM3bUS"
      }
    },
    {
      "cell_type": "code",
      "source": [
        "# Split grouped dataset and labels into training and validation sets\n",
        "grouped_train = grouped_dataset['train']\n",
        "labels_train = labels['train']\n",
        "\n",
        "grouped_val = grouped_dataset['val']\n",
        "labels_val = labels['val']\n",
        "\n",
        "# Quick consistency check\n",
        "print(f\"Train IDs: {len(grouped_train)}, Val IDs: {len(grouped_val)}\")"
      ],
      "metadata": {
        "id": "n75KHg5Ij6DO",
        "colab": {
          "base_uri": "https://localhost:8080/"
        },
        "outputId": "350e61fa-834a-44ef-c467-2d8eb600f348"
      },
      "execution_count": null,
      "outputs": [
        {
          "output_type": "stream",
          "name": "stdout",
          "text": [
            "Train IDs: 3240, Val IDs: 301\n"
          ]
        }
      ]
    },
    {
      "cell_type": "markdown",
      "source": [
        "## Custom data generator\n",
        "Define a custom Keras `Sequence` to handle grouped heart sound signals.\n",
        "This ensures batching, shuffling, and consistent handling of multiple segments per patient.\n"
      ],
      "metadata": {
        "id": "UC0tSQRZ3dRJ"
      }
    },
    {
      "cell_type": "code",
      "source": [
        "from tensorflow.keras.utils import Sequence\n",
        "import numpy as np\n",
        "\n",
        "# Custom Keras Sequence class to handle grouped heart sound dataset\n",
        "class HeartSoundGroupedDataset(Sequence):\n",
        "    def __init__(self, grouped_data, labels, min_segments_per_batch=1, shuffle=True, **kwargs):\n",
        "        super().__init__(**kwargs)\n",
        "        self.grouped_data = grouped_data      # Dictionary: input_id -> list of audio segments\n",
        "        self.labels = labels                  # Dictionary: input_id -> label (0 or 1)\n",
        "        self.input_ids = list(grouped_data.keys())  # List of available sample IDs\n",
        "        self.min_segments_per_batch = min_segments_per_batch  # Minimum number of segments per batch\n",
        "        self.shuffle = shuffle\n",
        "        self.batches = self.create_batches()  # Precompute batches\n",
        "\n",
        "    # Create batches ensuring at least 'min_segments_per_batch' segments are in each batch\n",
        "    def create_batches(self):\n",
        "        if self.shuffle:\n",
        "            np.random.shuffle(self.input_ids)  # Shuffle IDs at the start\n",
        "\n",
        "        batches = []\n",
        "        current_batch = []\n",
        "        current_count = 0\n",
        "\n",
        "        for input_id in self.input_ids:\n",
        "            segments = self.grouped_data[input_id]\n",
        "            n_segments = len(segments)\n",
        "\n",
        "            current_batch.append(input_id)\n",
        "            current_count += n_segments\n",
        "\n",
        "            # When the minimum segment count is reached, finalize the batch\n",
        "            if current_count >= self.min_segments_per_batch:\n",
        "                batches.append(current_batch)\n",
        "                current_batch = []\n",
        "                current_count = 0\n",
        "\n",
        "        # Add last batch even if it has fewer segments\n",
        "        if current_batch:\n",
        "            batches.append(current_batch)\n",
        "\n",
        "        return batches\n",
        "\n",
        "    # Return number of batches per epoch\n",
        "    def __len__(self):\n",
        "        return len(self.batches)\n",
        "\n",
        "    # Return data for one batch (called by Keras during training)\n",
        "    def __getitem__(self, index):\n",
        "        batch_ids = self.batches[index]\n",
        "        batch_x = []\n",
        "        batch_y = []\n",
        "\n",
        "        for input_id in batch_ids:\n",
        "            segments = self.grouped_data[input_id]\n",
        "            # Stack segments and add channel dimension -> (n_segments, segment_length, 1)\n",
        "            segments = np.expand_dims(np.stack(segments), -1)\n",
        "            label = self.labels[input_id]\n",
        "\n",
        "            batch_x.append(segments)\n",
        "\n",
        "            # Create metadata [input_id, label], repeated for each segment\n",
        "            meta = np.array([input_id, label])\n",
        "            meta_repeated = np.repeat(meta[np.newaxis, :], len(segments), axis=0)\n",
        "            batch_y.append(meta_repeated)\n",
        "\n",
        "        # Concatenate all segments across input_ids\n",
        "        batch_x = np.concatenate(batch_x, axis=0)  # shape: (>=min_segments, segment_length, 1)\n",
        "        batch_y = np.concatenate(batch_y, axis=0)  # shape: (>=min_segments, 2)\n",
        "\n",
        "        return batch_x, batch_y\n",
        "\n",
        "    # Called automatically at the end of each epoch to reshuffle and rebuild batches\n",
        "    def on_epoch_end(self):\n",
        "        self.batches = self.create_batches()\n"
      ],
      "metadata": {
        "id": "y2FAr2nykX0W"
      },
      "execution_count": null,
      "outputs": []
    },
    {
      "cell_type": "markdown",
      "source": [
        "## Custom loss & metrics\n",
        "Define a grouped Binary Crossentropy loss and grouped Binary Accuracy metric.  \n",
        "Each patient (input_id) has multiple audio segments: predictions are averaged before computing loss/metrics.\n"
      ],
      "metadata": {
        "id": "_X_C2LCG35hC"
      }
    },
    {
      "cell_type": "code",
      "source": [
        "import tensorflow.keras.backend as K\n",
        "import tensorflow as tf\n",
        "\n",
        "# Custom grouped Binary Crossentropy (BCE) loss function\n",
        "def custom_grouped_bce(y_true, y_pred):\n",
        "    # y_true: (batch_size, 2): [input_id, label]\n",
        "    # y_pred: (batch_size, 1)\n",
        "\n",
        "    # Extract input IDs and labels\n",
        "    input_ids = tf.cast(y_true[:, 0], tf.int32)  # input_id as integer\n",
        "    labels = y_true[:, 1]  # label (0 or 1)\n",
        "\n",
        "    # Find unique input IDs and their corresponding indices\n",
        "    unique_ids, idx = tf.unique(input_ids)\n",
        "\n",
        "    # Compute mean predictions per input_id\n",
        "    pred_means = tf.math.unsorted_segment_mean(\n",
        "        y_pred[:, 0], idx, tf.shape(unique_ids)[0]\n",
        "    )\n",
        "    # Compute labels per input_id (max ensures consistent group label)\n",
        "    labels = tf.cast(\n",
        "        tf.math.unsorted_segment_max(labels, idx, tf.shape(unique_ids)[0]), tf.float32\n",
        "    )\n",
        "\n",
        "    # Compute BCE between averaged predictions and labels\n",
        "    loss = tf.keras.losses.binary_crossentropy(labels, pred_means)\n",
        "    return tf.reduce_mean(loss)\n",
        "\n",
        "\n",
        "# Custom grouped Binary Accuracy metric\n",
        "def grouped_binary_accuracy(y_true, y_pred):\n",
        "    input_ids = tf.cast(y_true[:, 0], tf.int32)\n",
        "    labels = y_true[:, 1]\n",
        "\n",
        "    # Find unique input IDs and their indices\n",
        "    unique_ids, idx = tf.unique(input_ids)\n",
        "\n",
        "    # Compute mean predictions per input_id\n",
        "    pred_means = tf.math.unsorted_segment_mean(\n",
        "        y_pred[:, 0], idx, tf.shape(unique_ids)[0]\n",
        "    )\n",
        "    # Group labels (max is used in case of duplicates)\n",
        "    labels = tf.cast(\n",
        "        tf.math.unsorted_segment_max(labels, idx, tf.shape(unique_ids)[0]), tf.float32\n",
        "    )\n",
        "\n",
        "    # Convert averaged predictions to binary classification (threshold = 0.5)\n",
        "    pred_binary = tf.cast(pred_means >= 0.5, tf.float32)\n",
        "\n",
        "    # Compare predicted vs true labels\n",
        "    correct = tf.cast(tf.equal(pred_binary, labels), tf.float32)\n",
        "    return tf.reduce_mean(correct)"
      ],
      "metadata": {
        "id": "hP3rR5cnYqGj"
      },
      "execution_count": null,
      "outputs": []
    },
    {
      "cell_type": "markdown",
      "source": [
        "## Data Generators\n",
        "Wrap the grouped dataset into Keras `Sequence` generators for training and validation.\n",
        "This ensures efficient batch loading and on-the-fly reshuffling between epochs.\n"
      ],
      "metadata": {
        "id": "s-8deUoE4BMT"
      }
    },
    {
      "cell_type": "code",
      "source": [
        "train_gen = HeartSoundGroupedDataset(grouped_train, labels_train)\n",
        "val_gen = HeartSoundGroupedDataset(grouped_val, labels_val, shuffle=False)"
      ],
      "metadata": {
        "id": "aVbJADTY-nL0"
      },
      "execution_count": null,
      "outputs": []
    },
    {
      "cell_type": "markdown",
      "source": [
        "## Model definition\n",
        "Define a 1D Convolutional Neural Network (CNN) for heart sound classification.\n",
        "The model progressively extracts temporal features, downsamples with pooling,\n",
        "and ends with dense layers for binary classification.\n"
      ],
      "metadata": {
        "id": "gnwhEUUf4DlS"
      }
    },
    {
      "cell_type": "code",
      "source": [
        "import tensorflow as tf\n",
        "import keras\n",
        "from tensorflow.keras.models import Sequential\n",
        "from tensorflow.keras.layers import Conv1D, MaxPooling1D, Flatten, Dense\n",
        "\n",
        "# Parametri di esempio\n",
        "input_length = grouped_train[0][0].shape[0]  # lunghezza della sequenza in input\n",
        "num_channels = 1     # canali in input (es. 1 per segnali monodimensionali)\n",
        "num_classes = 1      # output binario\n",
        "\n",
        "model = Sequential([\n",
        "    Conv1D(filters=16, kernel_size=5, activation='relu', input_shape=(input_length, num_channels)),\n",
        "    MaxPooling1D(pool_size=2),\n",
        "    Conv1D(filters=32, kernel_size=5, activation='relu'),\n",
        "    MaxPooling1D(pool_size=2),\n",
        "    Flatten(),\n",
        "    Dense(64, activation='relu'),\n",
        "    Dense(num_classes, activation='sigmoid')\n",
        "])\n",
        "\n",
        "model.compile(optimizer='SGD', loss=custom_grouped_bce, metrics=[grouped_binary_accuracy])\n",
        "\n",
        "model.summary()\n"
      ],
      "metadata": {
        "id": "9Gr7FeTveC94",
        "colab": {
          "base_uri": "https://localhost:8080/",
          "height": 408
        },
        "outputId": "3f35cad2-3c22-4ad1-8e98-77c01e9aa01a"
      },
      "execution_count": null,
      "outputs": [
        {
          "output_type": "stream",
          "name": "stderr",
          "text": [
            "/usr/local/lib/python3.12/dist-packages/keras/src/layers/convolutional/base_conv.py:113: UserWarning: Do not pass an `input_shape`/`input_dim` argument to a layer. When using Sequential models, prefer using an `Input(shape)` object as the first layer in the model instead.\n",
            "  super().__init__(activity_regularizer=activity_regularizer, **kwargs)\n"
          ]
        },
        {
          "output_type": "display_data",
          "data": {
            "text/plain": [
              "\u001b[1mModel: \"sequential\"\u001b[0m\n"
            ],
            "text/html": [
              "<pre style=\"white-space:pre;overflow-x:auto;line-height:normal;font-family:Menlo,'DejaVu Sans Mono',consolas,'Courier New',monospace\"><span style=\"font-weight: bold\">Model: \"sequential\"</span>\n",
              "</pre>\n"
            ]
          },
          "metadata": {}
        },
        {
          "output_type": "display_data",
          "data": {
            "text/plain": [
              "┏━━━━━━━━━━━━━━━━━━━━━━━━━━━━━━━━━┳━━━━━━━━━━━━━━━━━━━━━━━━┳━━━━━━━━━━━━━━━┓\n",
              "┃\u001b[1m \u001b[0m\u001b[1mLayer (type)                   \u001b[0m\u001b[1m \u001b[0m┃\u001b[1m \u001b[0m\u001b[1mOutput Shape          \u001b[0m\u001b[1m \u001b[0m┃\u001b[1m \u001b[0m\u001b[1m      Param #\u001b[0m\u001b[1m \u001b[0m┃\n",
              "┡━━━━━━━━━━━━━━━━━━━━━━━━━━━━━━━━━╇━━━━━━━━━━━━━━━━━━━━━━━━╇━━━━━━━━━━━━━━━┩\n",
              "│ conv1d (\u001b[38;5;33mConv1D\u001b[0m)                 │ (\u001b[38;5;45mNone\u001b[0m, \u001b[38;5;34m2496\u001b[0m, \u001b[38;5;34m16\u001b[0m)       │            \u001b[38;5;34m96\u001b[0m │\n",
              "├─────────────────────────────────┼────────────────────────┼───────────────┤\n",
              "│ max_pooling1d (\u001b[38;5;33mMaxPooling1D\u001b[0m)    │ (\u001b[38;5;45mNone\u001b[0m, \u001b[38;5;34m1248\u001b[0m, \u001b[38;5;34m16\u001b[0m)       │             \u001b[38;5;34m0\u001b[0m │\n",
              "├─────────────────────────────────┼────────────────────────┼───────────────┤\n",
              "│ conv1d_1 (\u001b[38;5;33mConv1D\u001b[0m)               │ (\u001b[38;5;45mNone\u001b[0m, \u001b[38;5;34m1244\u001b[0m, \u001b[38;5;34m32\u001b[0m)       │         \u001b[38;5;34m2,592\u001b[0m │\n",
              "├─────────────────────────────────┼────────────────────────┼───────────────┤\n",
              "│ max_pooling1d_1 (\u001b[38;5;33mMaxPooling1D\u001b[0m)  │ (\u001b[38;5;45mNone\u001b[0m, \u001b[38;5;34m622\u001b[0m, \u001b[38;5;34m32\u001b[0m)        │             \u001b[38;5;34m0\u001b[0m │\n",
              "├─────────────────────────────────┼────────────────────────┼───────────────┤\n",
              "│ flatten (\u001b[38;5;33mFlatten\u001b[0m)               │ (\u001b[38;5;45mNone\u001b[0m, \u001b[38;5;34m19904\u001b[0m)          │             \u001b[38;5;34m0\u001b[0m │\n",
              "├─────────────────────────────────┼────────────────────────┼───────────────┤\n",
              "│ dense (\u001b[38;5;33mDense\u001b[0m)                   │ (\u001b[38;5;45mNone\u001b[0m, \u001b[38;5;34m64\u001b[0m)             │     \u001b[38;5;34m1,273,920\u001b[0m │\n",
              "├─────────────────────────────────┼────────────────────────┼───────────────┤\n",
              "│ dense_1 (\u001b[38;5;33mDense\u001b[0m)                 │ (\u001b[38;5;45mNone\u001b[0m, \u001b[38;5;34m1\u001b[0m)              │            \u001b[38;5;34m65\u001b[0m │\n",
              "└─────────────────────────────────┴────────────────────────┴───────────────┘\n"
            ],
            "text/html": [
              "<pre style=\"white-space:pre;overflow-x:auto;line-height:normal;font-family:Menlo,'DejaVu Sans Mono',consolas,'Courier New',monospace\">┏━━━━━━━━━━━━━━━━━━━━━━━━━━━━━━━━━┳━━━━━━━━━━━━━━━━━━━━━━━━┳━━━━━━━━━━━━━━━┓\n",
              "┃<span style=\"font-weight: bold\"> Layer (type)                    </span>┃<span style=\"font-weight: bold\"> Output Shape           </span>┃<span style=\"font-weight: bold\">       Param # </span>┃\n",
              "┡━━━━━━━━━━━━━━━━━━━━━━━━━━━━━━━━━╇━━━━━━━━━━━━━━━━━━━━━━━━╇━━━━━━━━━━━━━━━┩\n",
              "│ conv1d (<span style=\"color: #0087ff; text-decoration-color: #0087ff\">Conv1D</span>)                 │ (<span style=\"color: #00d7ff; text-decoration-color: #00d7ff\">None</span>, <span style=\"color: #00af00; text-decoration-color: #00af00\">2496</span>, <span style=\"color: #00af00; text-decoration-color: #00af00\">16</span>)       │            <span style=\"color: #00af00; text-decoration-color: #00af00\">96</span> │\n",
              "├─────────────────────────────────┼────────────────────────┼───────────────┤\n",
              "│ max_pooling1d (<span style=\"color: #0087ff; text-decoration-color: #0087ff\">MaxPooling1D</span>)    │ (<span style=\"color: #00d7ff; text-decoration-color: #00d7ff\">None</span>, <span style=\"color: #00af00; text-decoration-color: #00af00\">1248</span>, <span style=\"color: #00af00; text-decoration-color: #00af00\">16</span>)       │             <span style=\"color: #00af00; text-decoration-color: #00af00\">0</span> │\n",
              "├─────────────────────────────────┼────────────────────────┼───────────────┤\n",
              "│ conv1d_1 (<span style=\"color: #0087ff; text-decoration-color: #0087ff\">Conv1D</span>)               │ (<span style=\"color: #00d7ff; text-decoration-color: #00d7ff\">None</span>, <span style=\"color: #00af00; text-decoration-color: #00af00\">1244</span>, <span style=\"color: #00af00; text-decoration-color: #00af00\">32</span>)       │         <span style=\"color: #00af00; text-decoration-color: #00af00\">2,592</span> │\n",
              "├─────────────────────────────────┼────────────────────────┼───────────────┤\n",
              "│ max_pooling1d_1 (<span style=\"color: #0087ff; text-decoration-color: #0087ff\">MaxPooling1D</span>)  │ (<span style=\"color: #00d7ff; text-decoration-color: #00d7ff\">None</span>, <span style=\"color: #00af00; text-decoration-color: #00af00\">622</span>, <span style=\"color: #00af00; text-decoration-color: #00af00\">32</span>)        │             <span style=\"color: #00af00; text-decoration-color: #00af00\">0</span> │\n",
              "├─────────────────────────────────┼────────────────────────┼───────────────┤\n",
              "│ flatten (<span style=\"color: #0087ff; text-decoration-color: #0087ff\">Flatten</span>)               │ (<span style=\"color: #00d7ff; text-decoration-color: #00d7ff\">None</span>, <span style=\"color: #00af00; text-decoration-color: #00af00\">19904</span>)          │             <span style=\"color: #00af00; text-decoration-color: #00af00\">0</span> │\n",
              "├─────────────────────────────────┼────────────────────────┼───────────────┤\n",
              "│ dense (<span style=\"color: #0087ff; text-decoration-color: #0087ff\">Dense</span>)                   │ (<span style=\"color: #00d7ff; text-decoration-color: #00d7ff\">None</span>, <span style=\"color: #00af00; text-decoration-color: #00af00\">64</span>)             │     <span style=\"color: #00af00; text-decoration-color: #00af00\">1,273,920</span> │\n",
              "├─────────────────────────────────┼────────────────────────┼───────────────┤\n",
              "│ dense_1 (<span style=\"color: #0087ff; text-decoration-color: #0087ff\">Dense</span>)                 │ (<span style=\"color: #00d7ff; text-decoration-color: #00d7ff\">None</span>, <span style=\"color: #00af00; text-decoration-color: #00af00\">1</span>)              │            <span style=\"color: #00af00; text-decoration-color: #00af00\">65</span> │\n",
              "└─────────────────────────────────┴────────────────────────┴───────────────┘\n",
              "</pre>\n"
            ]
          },
          "metadata": {}
        },
        {
          "output_type": "display_data",
          "data": {
            "text/plain": [
              "\u001b[1m Total params: \u001b[0m\u001b[38;5;34m1,276,673\u001b[0m (4.87 MB)\n"
            ],
            "text/html": [
              "<pre style=\"white-space:pre;overflow-x:auto;line-height:normal;font-family:Menlo,'DejaVu Sans Mono',consolas,'Courier New',monospace\"><span style=\"font-weight: bold\"> Total params: </span><span style=\"color: #00af00; text-decoration-color: #00af00\">1,276,673</span> (4.87 MB)\n",
              "</pre>\n"
            ]
          },
          "metadata": {}
        },
        {
          "output_type": "display_data",
          "data": {
            "text/plain": [
              "\u001b[1m Trainable params: \u001b[0m\u001b[38;5;34m1,276,673\u001b[0m (4.87 MB)\n"
            ],
            "text/html": [
              "<pre style=\"white-space:pre;overflow-x:auto;line-height:normal;font-family:Menlo,'DejaVu Sans Mono',consolas,'Courier New',monospace\"><span style=\"font-weight: bold\"> Trainable params: </span><span style=\"color: #00af00; text-decoration-color: #00af00\">1,276,673</span> (4.87 MB)\n",
              "</pre>\n"
            ]
          },
          "metadata": {}
        },
        {
          "output_type": "display_data",
          "data": {
            "text/plain": [
              "\u001b[1m Non-trainable params: \u001b[0m\u001b[38;5;34m0\u001b[0m (0.00 B)\n"
            ],
            "text/html": [
              "<pre style=\"white-space:pre;overflow-x:auto;line-height:normal;font-family:Menlo,'DejaVu Sans Mono',consolas,'Courier New',monospace\"><span style=\"font-weight: bold\"> Non-trainable params: </span><span style=\"color: #00af00; text-decoration-color: #00af00\">0</span> (0.00 B)\n",
              "</pre>\n"
            ]
          },
          "metadata": {}
        }
      ]
    },
    {
      "cell_type": "markdown",
      "source": [
        "## Training the CNN\n",
        "Train the model on the grouped heart sound dataset for 10 epochs."
      ],
      "metadata": {
        "id": "q97asHqz4ek6"
      }
    },
    {
      "cell_type": "code",
      "source": [
        "history = model.fit(train_gen,\n",
        "          validation_data=val_gen,\n",
        "          epochs=10)\n"
      ],
      "metadata": {
        "id": "2P0m7QS05hzK",
        "colab": {
          "base_uri": "https://localhost:8080/"
        },
        "outputId": "ed8534d1-c121-4a3f-f939-7953728dec47"
      },
      "execution_count": null,
      "outputs": [
        {
          "output_type": "stream",
          "name": "stdout",
          "text": [
            "Epoch 1/10\n",
            "\u001b[1m3240/3240\u001b[0m \u001b[32m━━━━━━━━━━━━━━━━━━━━\u001b[0m\u001b[37m\u001b[0m \u001b[1m189s\u001b[0m 57ms/step - grouped_binary_accuracy: 0.8006 - loss: 0.5461 - val_grouped_binary_accuracy: 0.4983 - val_loss: 0.7814\n",
            "Epoch 2/10\n",
            "\u001b[1m3240/3240\u001b[0m \u001b[32m━━━━━━━━━━━━━━━━━━━━\u001b[0m\u001b[37m\u001b[0m \u001b[1m23s\u001b[0m 7ms/step - grouped_binary_accuracy: 0.7954 - loss: 0.4613 - val_grouped_binary_accuracy: 0.5216 - val_loss: 0.6933\n",
            "Epoch 3/10\n",
            "\u001b[1m3240/3240\u001b[0m \u001b[32m━━━━━━━━━━━━━━━━━━━━\u001b[0m\u001b[37m\u001b[0m \u001b[1m22s\u001b[0m 7ms/step - grouped_binary_accuracy: 0.8087 - loss: 0.4219 - val_grouped_binary_accuracy: 0.5548 - val_loss: 0.7567\n",
            "Epoch 4/10\n",
            "\u001b[1m3240/3240\u001b[0m \u001b[32m━━━━━━━━━━━━━━━━━━━━\u001b[0m\u001b[37m\u001b[0m \u001b[1m23s\u001b[0m 7ms/step - grouped_binary_accuracy: 0.8294 - loss: 0.3720 - val_grouped_binary_accuracy: 0.8073 - val_loss: 0.5071\n",
            "Epoch 5/10\n",
            "\u001b[1m3240/3240\u001b[0m \u001b[32m━━━━━━━━━━━━━━━━━━━━\u001b[0m\u001b[37m\u001b[0m \u001b[1m22s\u001b[0m 7ms/step - grouped_binary_accuracy: 0.8697 - loss: 0.3125 - val_grouped_binary_accuracy: 0.6811 - val_loss: 0.6485\n",
            "Epoch 6/10\n",
            "\u001b[1m3240/3240\u001b[0m \u001b[32m━━━━━━━━━━━━━━━━━━━━\u001b[0m\u001b[37m\u001b[0m \u001b[1m41s\u001b[0m 7ms/step - grouped_binary_accuracy: 0.9038 - loss: 0.2539 - val_grouped_binary_accuracy: 0.8837 - val_loss: 0.4012\n",
            "Epoch 7/10\n",
            "\u001b[1m3240/3240\u001b[0m \u001b[32m━━━━━━━━━━━━━━━━━━━━\u001b[0m\u001b[37m\u001b[0m \u001b[1m41s\u001b[0m 7ms/step - grouped_binary_accuracy: 0.9343 - loss: 0.2135 - val_grouped_binary_accuracy: 0.9136 - val_loss: 0.3499\n",
            "Epoch 8/10\n",
            "\u001b[1m3240/3240\u001b[0m \u001b[32m━━━━━━━━━━━━━━━━━━━━\u001b[0m\u001b[37m\u001b[0m \u001b[1m41s\u001b[0m 7ms/step - grouped_binary_accuracy: 0.9571 - loss: 0.1673 - val_grouped_binary_accuracy: 0.9169 - val_loss: 0.3193\n",
            "Epoch 9/10\n",
            "\u001b[1m3240/3240\u001b[0m \u001b[32m━━━━━━━━━━━━━━━━━━━━\u001b[0m\u001b[37m\u001b[0m \u001b[1m22s\u001b[0m 7ms/step - grouped_binary_accuracy: 0.9673 - loss: 0.1474 - val_grouped_binary_accuracy: 0.9402 - val_loss: 0.2682\n",
            "Epoch 10/10\n",
            "\u001b[1m3240/3240\u001b[0m \u001b[32m━━━━━━━━━━━━━━━━━━━━\u001b[0m\u001b[37m\u001b[0m \u001b[1m23s\u001b[0m 7ms/step - grouped_binary_accuracy: 0.9768 - loss: 0.1181 - val_grouped_binary_accuracy: 0.9668 - val_loss: 0.2030\n"
          ]
        }
      ]
    },
    {
      "cell_type": "markdown",
      "source": [
        "## Model Evaluation\n",
        "Evaluate the CNN on the validation set by aggregating predictions for each audio sample.\n",
        "Metrics include accuracy, AUC, precision, recall, and F1-score. A confusion matrix visualizes performance per class.\n"
      ],
      "metadata": {
        "id": "RB6jjkix4omj"
      }
    },
    {
      "cell_type": "code",
      "source": [
        "import numpy as np\n",
        "import matplotlib.pyplot as plt\n",
        "import seaborn as sns\n",
        "from sklearn.metrics import (\n",
        "    accuracy_score, roc_auc_score, confusion_matrix,\n",
        "    precision_score, recall_score, f1_score, classification_report\n",
        ")\n",
        "\n",
        "# === Prediction ===\n",
        "grouped_preds = []\n",
        "grouped_labels = []\n",
        "\n",
        "for input_id, segments in grouped_val.items():\n",
        "    # Prepare the segments\n",
        "    X = np.expand_dims(np.stack(segments), axis=-1)  # (n_segments, segment_length, 1)\n",
        "\n",
        "    # Predict probabilities for each segment\n",
        "    y_segment_pred = model.predict(X, verbose=0).reshape(-1)  # (n_segments,)\n",
        "\n",
        "    # Aggregate: mean probability per input_id\n",
        "    mean_pred = y_segment_pred.mean()\n",
        "    grouped_preds.append(mean_pred)\n",
        "\n",
        "    # Retrieve the true label\n",
        "    grouped_labels.append(labels_val[input_id])\n",
        "\n",
        "# === Post-processing ===\n",
        "grouped_preds = np.array(grouped_preds)\n",
        "grouped_labels = np.array(grouped_labels)\n",
        "\n",
        "# Binarize predictions\n",
        "grouped_pred_labels = (grouped_preds > 0.5).astype(int)\n",
        "\n",
        "# === Metrics ===\n",
        "acc = accuracy_score(grouped_labels, grouped_pred_labels)\n",
        "auc = roc_auc_score(grouped_labels, grouped_preds)\n",
        "prec = precision_score(grouped_labels, grouped_pred_labels)\n",
        "rec = recall_score(grouped_labels, grouped_pred_labels)\n",
        "f1 = f1_score(grouped_labels, grouped_pred_labels)\n",
        "\n",
        "# === Output ===\n",
        "print(\"Aggregated evaluation per audio input:\")\n",
        "print(f\"Accuracy       : {acc:.4f}\")\n",
        "print(f\"AUC            : {auc:.4f}\")\n",
        "print(f\"Precision      : {prec:.4f}\")\n",
        "print(f\"Recall         : {rec:.4f}\")\n",
        "print(f\"F1-score       : {f1:.4f}\")\n",
        "print(\"\\n Classification Report:\")\n",
        "print(classification_report(grouped_labels, grouped_pred_labels, target_names=[\"Healthy\", \"Unhealthy\"]))\n",
        "\n",
        "# === Confusion Matrix ===\n",
        "cm = confusion_matrix(grouped_labels, grouped_pred_labels)\n",
        "plt.figure(figsize=(5,4))\n",
        "sns.heatmap(cm, annot=True, fmt=\"d\", cmap=\"Blues\", xticklabels=[\"Healthy\", \"Unhealthy\"], yticklabels=[\"Healthy\", \"Unhealthy\"])\n",
        "plt.xlabel(\"Predicted Label\")\n",
        "plt.ylabel(\"True Label\")\n",
        "plt.title(\"Confusion Matrix (Aggregated per input)\")\n",
        "plt.tight_layout()\n",
        "plt.show()\n",
        "\n"
      ],
      "metadata": {
        "id": "UTZ4Za_CpBMr",
        "colab": {
          "base_uri": "https://localhost:8080/",
          "height": 702
        },
        "outputId": "f9be756f-1a98-4025-8f77-e1cec9248f39"
      },
      "execution_count": null,
      "outputs": [
        {
          "output_type": "stream",
          "name": "stdout",
          "text": [
            "Aggregated evaluation per audio input:\n",
            "Accuracy       : 0.9668\n",
            "AUC            : 0.9985\n",
            "Precision      : 1.0000\n",
            "Recall         : 0.9338\n",
            "F1-score       : 0.9658\n",
            "\n",
            " Classification Report:\n",
            "              precision    recall  f1-score   support\n",
            "\n",
            "     Healthy       0.94      1.00      0.97       150\n",
            "   Unhealthy       1.00      0.93      0.97       151\n",
            "\n",
            "    accuracy                           0.97       301\n",
            "   macro avg       0.97      0.97      0.97       301\n",
            "weighted avg       0.97      0.97      0.97       301\n",
            "\n"
          ]
        },
        {
          "output_type": "display_data",
          "data": {
            "text/plain": [
              "<Figure size 500x400 with 2 Axes>"
            ],
            "image/png": "[encoded data removed]"
          },
          "metadata": {}
        }
      ]
    }
  ]
}